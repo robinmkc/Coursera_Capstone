{
  "nbformat": 4,
  "nbformat_minor": 5,
  "metadata": {
    "kernelspec": {
      "display_name": "Python",
      "language": "python",
      "name": "conda-env-python-py"
    },
    "language_info": {
      "codemirror_mode": {
        "name": "ipython",
        "version": 3
      },
      "file_extension": ".py",
      "mimetype": "text/x-python",
      "name": "python",
      "nbconvert_exporter": "python",
      "pygments_lexer": "ipython3",
      "version": "3.6.13"
    },
    "colab": {
      "name": "data_scientist_capstone_week3.ipynb",
      "provenance": [],
      "collapsed_sections": [],
      "include_colab_link": true
    }
  },
  "cells": [
    {
      "cell_type": "markdown",
      "metadata": {
        "id": "view-in-github",
        "colab_type": "text"
      },
      "source": [
        "<a href=\"https://colab.research.google.com/github/robinmkc/Coursera_Capstone/blob/main/data_scientist_capstone_week3.ipynb\" target=\"_parent\"><img src=\"https://colab.research.google.com/assets/colab-badge.svg\" alt=\"Open In Colab\"/></a>"
      ]
    },
    {
      "cell_type": "markdown",
      "metadata": {
        "id": "af065599-6bfc-409c-b37d-05d6d970c763"
      },
      "source": [
        "Week 3: Segmenting and Clustering Neighborhoods in Toronto\n",
        "For this assignment, you will be required to explore and cluster the neighborhoods in Toronto."
      ],
      "id": "af065599-6bfc-409c-b37d-05d6d970c763"
    },
    {
      "cell_type": "markdown",
      "metadata": {
        "id": "ef5d21ce-060a-4c40-aa18-7e8dbb175fd2"
      },
      "source": [
        "Install beautifulsoup4"
      ],
      "id": "ef5d21ce-060a-4c40-aa18-7e8dbb175fd2"
    },
    {
      "cell_type": "code",
      "metadata": {
        "colab": {
          "base_uri": "https://localhost:8080/"
        },
        "id": "e27aed85-a9b9-457c-8317-41f7c466173e",
        "outputId": "df314feb-c040-49e8-8101-b4eb5175e5ee"
      },
      "source": [
        "!pip install bs4"
      ],
      "id": "e27aed85-a9b9-457c-8317-41f7c466173e",
      "execution_count": 1,
      "outputs": [
        {
          "output_type": "stream",
          "text": [
            "Requirement already satisfied: bs4 in /usr/local/lib/python3.7/dist-packages (0.0.1)\n",
            "Requirement already satisfied: beautifulsoup4 in /usr/local/lib/python3.7/dist-packages (from bs4) (4.6.3)\n"
          ],
          "name": "stdout"
        }
      ]
    },
    {
      "cell_type": "markdown",
      "metadata": {
        "id": "DjaawDjNg49W"
      },
      "source": [
        "Import pandas, requests, and BeautifulSoup"
      ],
      "id": "DjaawDjNg49W"
    },
    {
      "cell_type": "code",
      "metadata": {
        "id": "9ae92c0d-ad50-474f-a736-455dc1df0c9c"
      },
      "source": [
        "import pandas as pd \n",
        "import requests \n",
        "from bs4 import BeautifulSoup "
      ],
      "id": "9ae92c0d-ad50-474f-a736-455dc1df0c9c",
      "execution_count": 2,
      "outputs": []
    },
    {
      "cell_type": "markdown",
      "metadata": {
        "id": "MFaJ8Wc7g9Je"
      },
      "source": [
        "Read URL and parse it to table_contents"
      ],
      "id": "MFaJ8Wc7g9Je"
    },
    {
      "cell_type": "code",
      "metadata": {
        "id": "134e8d8a-0113-40ff-a7a7-bf09ac134633"
      },
      "source": [
        "\n",
        "url = 'https://en.wikipedia.org/w/index.php?title=List_of_postal_codes_of_Canada:_M&oldid=1012118802'\n",
        "#url = 'https://en.wikipedia.org/w/index.php?title=List_of_postal_codes_of_Canada:_M'\n",
        "req = requests.get(url) \n",
        "soup = BeautifulSoup(req.content, 'html.parser')\n",
        "table = soup.find_all('table')[0]\n",
        "table_contents = pd.read_html(str(table))"
      ],
      "id": "134e8d8a-0113-40ff-a7a7-bf09ac134633",
      "execution_count": 3,
      "outputs": []
    },
    {
      "cell_type": "markdown",
      "metadata": {
        "id": "IACtaOjphGq7"
      },
      "source": [
        "From table_contents, find table and convert data to pandas dataframe base on the requirements"
      ],
      "id": "IACtaOjphGq7"
    },
    {
      "cell_type": "code",
      "metadata": {
        "colab": {
          "base_uri": "https://localhost:8080/",
          "height": 423
        },
        "id": "133ce99e-9128-4dc1-999e-2ef7ca6301ca",
        "outputId": "4a147e97-bcdc-4c86-aaef-e5a62ac94530"
      },
      "source": [
        "data = []\n",
        "table = soup.find('table')\n",
        "#print(table)\n",
        "table_body = table.find('tbody')\n",
        "\n",
        "rows = table_body.find_all('tr')\n",
        "for row in rows:\n",
        "    cols = row.find_all('td')\n",
        "    cols = [ele.text.strip() for ele in cols]\n",
        "    if(isinstance(cols, list) and len(cols) > 2):\n",
        "        #Check if Borough is not assigned\n",
        "        if('Not assigned') in cols[1]:\n",
        "            #Borough is not assigned.\n",
        "            #Skip appending\n",
        "            pass\n",
        "        else:\n",
        "            #Keep row if Borough is assigned.\n",
        "            #If a cell has a borough but a Not assigned neighborhood, \n",
        "            #then the neighborhood will be the same as the borough.\n",
        "            if('Not assigned') in cols[2]:\n",
        "                cols[2] = cols[1]  \n",
        "            data.append([ele for ele in cols if ele]) # Get rid of empty values\n",
        "\n",
        "df=pd.DataFrame(data)\n",
        "\n",
        "df.columns =['PostalCode', 'Borough', 'Neighborhood']\n",
        "df['Borough']=df['Borough'].replace({'Downtown TorontoStn A PO Boxes25 The Esplanade':'Downtown Toronto Stn A',\n",
        "                                             'East TorontoBusiness reply mail Processing Centre969 Eastern':'East Toronto Business',\n",
        "                                             'EtobicokeNorthwest':'Etobicoke Northwest','East YorkEast Toronto':'East York/East Toronto',\n",
        "                                             'MississaugaCanada Post Gateway Processing Centre':'Mississauga'})\n",
        "df"
      ],
      "id": "133ce99e-9128-4dc1-999e-2ef7ca6301ca",
      "execution_count": 7,
      "outputs": [
        {
          "output_type": "execute_result",
          "data": {
            "text/html": [
              "<div>\n",
              "<style scoped>\n",
              "    .dataframe tbody tr th:only-of-type {\n",
              "        vertical-align: middle;\n",
              "    }\n",
              "\n",
              "    .dataframe tbody tr th {\n",
              "        vertical-align: top;\n",
              "    }\n",
              "\n",
              "    .dataframe thead th {\n",
              "        text-align: right;\n",
              "    }\n",
              "</style>\n",
              "<table border=\"1\" class=\"dataframe\">\n",
              "  <thead>\n",
              "    <tr style=\"text-align: right;\">\n",
              "      <th></th>\n",
              "      <th>PostalCode</th>\n",
              "      <th>Borough</th>\n",
              "      <th>Neighborhood</th>\n",
              "    </tr>\n",
              "  </thead>\n",
              "  <tbody>\n",
              "    <tr>\n",
              "      <th>0</th>\n",
              "      <td>M3A</td>\n",
              "      <td>North York</td>\n",
              "      <td>Parkwoods</td>\n",
              "    </tr>\n",
              "    <tr>\n",
              "      <th>1</th>\n",
              "      <td>M4A</td>\n",
              "      <td>North York</td>\n",
              "      <td>Victoria Village</td>\n",
              "    </tr>\n",
              "    <tr>\n",
              "      <th>2</th>\n",
              "      <td>M5A</td>\n",
              "      <td>Downtown Toronto</td>\n",
              "      <td>Regent Park, Harbourfront</td>\n",
              "    </tr>\n",
              "    <tr>\n",
              "      <th>3</th>\n",
              "      <td>M6A</td>\n",
              "      <td>North York</td>\n",
              "      <td>Lawrence Manor, Lawrence Heights</td>\n",
              "    </tr>\n",
              "    <tr>\n",
              "      <th>4</th>\n",
              "      <td>M7A</td>\n",
              "      <td>Downtown Toronto</td>\n",
              "      <td>Queen's Park, Ontario Provincial Government</td>\n",
              "    </tr>\n",
              "    <tr>\n",
              "      <th>...</th>\n",
              "      <td>...</td>\n",
              "      <td>...</td>\n",
              "      <td>...</td>\n",
              "    </tr>\n",
              "    <tr>\n",
              "      <th>98</th>\n",
              "      <td>M8X</td>\n",
              "      <td>Etobicoke</td>\n",
              "      <td>The Kingsway, Montgomery Road, Old Mill North</td>\n",
              "    </tr>\n",
              "    <tr>\n",
              "      <th>99</th>\n",
              "      <td>M4Y</td>\n",
              "      <td>Downtown Toronto</td>\n",
              "      <td>Church and Wellesley</td>\n",
              "    </tr>\n",
              "    <tr>\n",
              "      <th>100</th>\n",
              "      <td>M7Y</td>\n",
              "      <td>East Toronto</td>\n",
              "      <td>Business reply mail Processing Centre, South C...</td>\n",
              "    </tr>\n",
              "    <tr>\n",
              "      <th>101</th>\n",
              "      <td>M8Y</td>\n",
              "      <td>Etobicoke</td>\n",
              "      <td>Old Mill South, King's Mill Park, Sunnylea, Hu...</td>\n",
              "    </tr>\n",
              "    <tr>\n",
              "      <th>102</th>\n",
              "      <td>M8Z</td>\n",
              "      <td>Etobicoke</td>\n",
              "      <td>Mimico NW, The Queensway West, South of Bloor,...</td>\n",
              "    </tr>\n",
              "  </tbody>\n",
              "</table>\n",
              "<p>103 rows × 3 columns</p>\n",
              "</div>"
            ],
            "text/plain": [
              "    PostalCode  ...                                       Neighborhood\n",
              "0          M3A  ...                                          Parkwoods\n",
              "1          M4A  ...                                   Victoria Village\n",
              "2          M5A  ...                          Regent Park, Harbourfront\n",
              "3          M6A  ...                   Lawrence Manor, Lawrence Heights\n",
              "4          M7A  ...        Queen's Park, Ontario Provincial Government\n",
              "..         ...  ...                                                ...\n",
              "98         M8X  ...      The Kingsway, Montgomery Road, Old Mill North\n",
              "99         M4Y  ...                               Church and Wellesley\n",
              "100        M7Y  ...  Business reply mail Processing Centre, South C...\n",
              "101        M8Y  ...  Old Mill South, King's Mill Park, Sunnylea, Hu...\n",
              "102        M8Z  ...  Mimico NW, The Queensway West, South of Bloor,...\n",
              "\n",
              "[103 rows x 3 columns]"
            ]
          },
          "metadata": {
            "tags": []
          },
          "execution_count": 7
        }
      ]
    },
    {
      "cell_type": "markdown",
      "metadata": {
        "id": "WVpoVlGXhUYM"
      },
      "source": [
        "Read number of rows and columns from dataframe"
      ],
      "id": "WVpoVlGXhUYM"
    },
    {
      "cell_type": "code",
      "metadata": {
        "colab": {
          "base_uri": "https://localhost:8080/"
        },
        "id": "dd207c07-5c8b-4040-86ad-d7f1330cf6a7",
        "outputId": "ce7500c8-7059-4335-d6e3-7186c365fe4f"
      },
      "source": [
        "df.shape\n",
        "\n"
      ],
      "id": "dd207c07-5c8b-4040-86ad-d7f1330cf6a7",
      "execution_count": 8,
      "outputs": [
        {
          "output_type": "execute_result",
          "data": {
            "text/plain": [
              "(103, 3)"
            ]
          },
          "metadata": {
            "tags": []
          },
          "execution_count": 8
        }
      ]
    }
  ]
}